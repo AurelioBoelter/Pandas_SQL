{
 "cells": [
  {
   "cell_type": "markdown",
   "metadata": {},
   "source": [
    "# Pandas com SQL"
   ]
  },
  {
   "cell_type": "code",
   "execution_count": null,
   "metadata": {},
   "outputs": [],
   "source": [
    "# Imports\n",
    "import urllib3\n",
    "import urllib\n",
    "import pandas as pd"
   ]
  },
  {
   "cell_type": "code",
   "execution_count": null,
   "metadata": {},
   "outputs": [],
   "source": [
    "# disable warnings\n",
    "urllib3.disable_warnings()"
   ]
  },
  {
   "cell_type": "markdown",
   "metadata": {},
   "source": [
    "# Bibliotecas de conexão"
   ]
  },
  {
   "cell_type": "code",
   "execution_count": null,
   "metadata": {},
   "outputs": [],
   "source": [
    "import mysql.connector\n",
    "from sqlalchemy import create_engine\n",
    "import pyodbc\n",
    "import pymssql"
   ]
  },
  {
   "cell_type": "markdown",
   "metadata": {},
   "source": [
    "# Conectando com MySQL"
   ]
  },
  {
   "cell_type": "code",
   "execution_count": null,
   "metadata": {},
   "outputs": [],
   "source": [
    "from mysql.connector import errorcode \n",
    "\n",
    "# obtendo conection string \n",
    "config = {\n",
    "    'host':'localhost',\n",
    "    'user':'usuario',\n",
    "    'password':'password',\n",
    "    'database':'banco'\n",
    "}"
   ]
  },
  {
   "cell_type": "markdown",
   "metadata": {},
   "source": [
    "# criando df com tabela MySQL\n",
    "\n",
    " ## pd.read_sql\n",
    "     é composta pela Query SQL e Variavel de Conexão\n",
    "#### df = pd.read_sql(SELECT * FROM tabela, conexão)"
   ]
  },
  {
   "cell_type": "code",
   "execution_count": null,
   "metadata": {},
   "outputs": [],
   "source": [
    "# Construct connection string\n",
    "try:\n",
    "   conn = mysql.connector.connect(**config)\n",
    "   df = pd.read_sql('select * from tb_item', conn)\n",
    "   print(\"Connection established\")\n",
    "except mysql.connector.Error as err:\n",
    "  if err.errno == errorcode.ER_ACCESS_DENIED_ERROR:\n",
    "    print(\"Something is wrong with the user name or password\")\n",
    "  elif err.errno == errorcode.ER_BAD_DB_ERROR:\n",
    "    print(\"Database does not exist\")\n",
    "  else:\n",
    "    print(err)\n",
    "else:\n",
    "  cursor = conn.cursor()"
   ]
  },
  {
   "cell_type": "code",
   "execution_count": null,
   "metadata": {},
   "outputs": [],
   "source": [
    "print(df)"
   ]
  },
  {
   "cell_type": "markdown",
   "metadata": {},
   "source": [
    "# Insert em tabela com DF"
   ]
  },
  {
   "cell_type": "code",
   "execution_count": null,
   "metadata": {},
   "outputs": [],
   "source": [
    "# Inserir os dados na tabela (preferivel já ter mapeada)\n",
    "    cursor.execute(\"INSERT INTO tb_kpi(tb_item_item_id, kpi_valor, kpi_dttime) VALUES('\" + str(item_id) + \"','\" + str(vi) + \"','\" + str(dtItem) + \"')\")\n",
    "    print(\"Inserted\",cursor.rowcount,\"row(s) of data.\")\n",
    "    "
   ]
  },
  {
   "cell_type": "markdown",
   "metadata": {},
   "source": [
    "# Encerrando conexão e Cursores"
   ]
  },
  {
   "cell_type": "code",
   "execution_count": null,
   "metadata": {},
   "outputs": [],
   "source": [
    "# Cleanup\n",
    "\n",
    "conn.commit()\n",
    "cursor.close()\n",
    "conn.close()\n",
    "\n",
    "print(\"Connection finished\")\n",
    "print(\"Done.\")"
   ]
  },
  {
   "cell_type": "markdown",
   "metadata": {},
   "source": [
    "# Conectando com SQL Server\n",
    "### Preencher a String abaixo com os dados do banco\n",
    "### (\"DRIVER={ODBC Driver 17 for SQL Server};SERVER=SERVERNAME;DATABASE=DBNAME;UID=USUARIO;PWD=PASSWORD\")\n",
    "\n",
    "#### DRIVER={ODBC Driver 17 for SQL Server} https://www.microsoft.com/en-us/download/details.aspx?id=56567\n",
    "#### SERVER=SERVERNAME\n",
    "#### DATABASE=DBNAME\n",
    "#### UID=USUARIO\n",
    "#### PWD=PASSWORD"
   ]
  },
  {
   "cell_type": "code",
   "execution_count": null,
   "metadata": {},
   "outputs": [],
   "source": [
    "from sqlalchemy import create_engine\n",
    "import pyodbc\n",
    "\n",
    "params = urllib.parse.quote_plus(\"DRIVER={ODBC Driver 17 for SQL Server};SERVER=SERVERNAME;DATABASE=DBNAME;UID=USUARIO;PWD=PASSWORD\")\n",
    "engine = create_engine(\"mssql+pyodbc:///?odbc_connect=%s\" % params)\n",
    "\n",
    "print(\"Connection established\")"
   ]
  },
  {
   "cell_type": "markdown",
   "metadata": {},
   "source": [
    "# Insert de Dados\n",
    "\n",
    "#### if_exists='append' = acrescentar\n",
    "#### if_exists='replace' = substituir"
   ]
  },
  {
   "cell_type": "code",
   "execution_count": null,
   "metadata": {},
   "outputs": [],
   "source": [
    "df.to_sql('NomeDaTabela', engine, if_exists='append')\n",
    "\n",
    "print(\"Insert Concluido\")"
   ]
  },
  {
   "cell_type": "markdown",
   "metadata": {},
   "source": [
    "# Select de Dados"
   ]
  },
  {
   "cell_type": "code",
   "execution_count": null,
   "metadata": {},
   "outputs": [],
   "source": [
    "df1 = pd.read_sql(\"select additionalInfo from GRC_Azure_UsageDetails WHERE additionalInfo like '%reser%'\", engine)"
   ]
  },
  {
   "cell_type": "code",
   "execution_count": null,
   "metadata": {},
   "outputs": [],
   "source": [
    "print(df1)"
   ]
  }
 ],
 "metadata": {
  "kernelspec": {
   "display_name": "Python 3",
   "language": "python",
   "name": "python3"
  },
  "language_info": {
   "codemirror_mode": {
    "name": "ipython",
    "version": 3
   },
   "file_extension": ".py",
   "mimetype": "text/x-python",
   "name": "python",
   "nbconvert_exporter": "python",
   "pygments_lexer": "ipython3",
   "version": "3.7.1"
  }
 },
 "nbformat": 4,
 "nbformat_minor": 2
}
